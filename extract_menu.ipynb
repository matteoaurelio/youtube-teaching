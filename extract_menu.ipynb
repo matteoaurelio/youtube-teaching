{
 "cells": [
  {
   "cell_type": "code",
   "execution_count": 1,
   "metadata": {},
   "outputs": [],
   "source": [
    "import fitz\n",
    "import pandas as pd\n",
    "import re"
   ]
  },
  {
   "cell_type": "code",
   "execution_count": 2,
   "metadata": {},
   "outputs": [],
   "source": [
    "# random_page = doc[3].get_text(\"dict\")\n",
    "\n",
    "# def points_to_cm(p: int):\n",
    "#     size = p * (2.54 / 72)\n",
    "#     return size\n",
    "\n",
    "# points_to_cm(random_page['height'])"
   ]
  },
  {
   "cell_type": "code",
   "execution_count": 3,
   "metadata": {},
   "outputs": [],
   "source": [
    "def extract_page_info(page, page_number):\n",
    "\n",
    "    doc = page.get_text(\"dict\")\n",
    "    blocks = doc['blocks']\n",
    "    text_data = []\n",
    "\n",
    "    for block in blocks:\n",
    "        if 'lines' not in block:\n",
    "            continue\n",
    "\n",
    "        for line in block['lines']:\n",
    "            for span in line['spans']:\n",
    "                text = span['text'].strip()\n",
    "\n",
    "                if not text:\n",
    "                    continue\n",
    "\n",
    "                flags = span.get('flags', 0)\n",
    "\n",
    "                match_ = re.search(r'[A-Za-z]+[-_]?(\\d+)(?![pt])', span['font'])\n",
    "\n",
    "                text_data.append({'text': text,\n",
    "                                'page_number': page_number + 1,\n",
    "                                'only_number': bool(re.search(r'^\\d{1,}$', text.strip())),\n",
    "                                'font_family': span['font'],\n",
    "                                'font_size': span['size'],\n",
    "                                'is_bold': bool(re.search(r'bold|heavy', span['font'], flags=re.I)),\n",
    "                                'font_intensity': match_.group(1) if match_ else None,\n",
    "                                'is_italic': bool(re.search(r'italic|oblique', span['font'].lower())),\n",
    "                                'is_capitalized': text.isupper(),\n",
    "                                'bbox': span['bbox'],\n",
    "                                'color': span['color']})\n",
    "    \n",
    "\n",
    "    return pd.DataFrame(text_data)\n",
    "                \n",
    "\n",
    "\n",
    "\n",
    "\n",
    "\n",
    "\n",
    "    "
   ]
  },
  {
   "cell_type": "code",
   "execution_count": 6,
   "metadata": {},
   "outputs": [],
   "source": [
    "doc = fitz.open('MENU.pdf')\n",
    "\n",
    "pages = []\n",
    "\n",
    "for pnr, page in enumerate(doc):\n",
    "    page_df = extract_page_info(page, pnr)\n",
    "    pages.append(page_df)\n",
    "    \n",
    "\n"
   ]
  },
  {
   "cell_type": "code",
   "execution_count": 7,
   "metadata": {},
   "outputs": [],
   "source": [
    "full_menu = pd.concat(pages)"
   ]
  },
  {
   "cell_type": "code",
   "execution_count": 15,
   "metadata": {},
   "outputs": [],
   "source": [
    "\n",
    "\n",
    "\n",
    "class MenuClassifier:\n",
    "    def __init__(self):\n",
    "        self.patterns = {\n",
    "            'dish_id': dict(\n",
    "                font_family=\"MuseoSans-500\",\n",
    "                only_number=True,\n",
    "                font_size=15.0,\n",
    "                font_intensity='500',\n",
    "                color=-703431),\n",
    "            'dish_name': dict(\n",
    "                font_family=\"MuseoSans-500\",\n",
    "                only_number=False,\n",
    "                font_size=13.0,\n",
    "                font_intensity='500',\n",
    "                color=-14475488\n",
    "            ),\n",
    "            'dish_description': dict(\n",
    "                font_family=\"MuseoSans-300\",\n",
    "                only_number=False,\n",
    "                font_size=10.0,\n",
    "                font_intensity='300',\n",
    "                color=-14475488\n",
    "            ),\n",
    "            'allergens': dict(\n",
    "                font_family=\"MuseoSans-300Italic\",\n",
    "                only_number=False,\n",
    "                font_size=9.0,\n",
    "                font_intensity='300',\n",
    "                color=-14475488\n",
    "            )\n",
    "        }\n",
    "    \n",
    "    def classify(self, row):\n",
    "        text_props = {\n",
    "            'font_family': row['font_family'],\n",
    "            'only_number': row['only_number'],\n",
    "            'font_size': row['font_size'],\n",
    "            'font_intensity': row['font_intensity'],\n",
    "            'color': row['color']\n",
    "        }\n",
    "\n",
    "        for text_type, pattern in self.patterns.items():\n",
    "            if all(text_props.get(key) == val for key, val in pattern.items()):\n",
    "                return text_type\n",
    "        return 'Unclassified'\n",
    "            \n"
   ]
  },
  {
   "cell_type": "code",
   "execution_count": 18,
   "metadata": {},
   "outputs": [],
   "source": [
    "classifier = MenuClassifier()\n",
    "\n",
    "full_menu['category'] = full_menu.apply(lambda row: classifier.classify(row), axis=1)"
   ]
  },
  {
   "cell_type": "code",
   "execution_count": 19,
   "metadata": {},
   "outputs": [
    {
     "data": {
      "text/html": [
       "<div>\n",
       "<style scoped>\n",
       "    .dataframe tbody tr th:only-of-type {\n",
       "        vertical-align: middle;\n",
       "    }\n",
       "\n",
       "    .dataframe tbody tr th {\n",
       "        vertical-align: top;\n",
       "    }\n",
       "\n",
       "    .dataframe thead th {\n",
       "        text-align: right;\n",
       "    }\n",
       "</style>\n",
       "<table border=\"1\" class=\"dataframe\">\n",
       "  <thead>\n",
       "    <tr style=\"text-align: right;\">\n",
       "      <th></th>\n",
       "      <th>text</th>\n",
       "      <th>category</th>\n",
       "    </tr>\n",
       "  </thead>\n",
       "  <tbody>\n",
       "    <tr>\n",
       "      <th>0</th>\n",
       "      <td>6</td>\n",
       "      <td>Unclassified</td>\n",
       "    </tr>\n",
       "    <tr>\n",
       "      <th>1</th>\n",
       "      <td>ENTRANTES</td>\n",
       "      <td>Unclassified</td>\n",
       "    </tr>\n",
       "    <tr>\n",
       "      <th>2</th>\n",
       "      <td>Edamame</td>\n",
       "      <td>dish_name</td>\n",
       "    </tr>\n",
       "    <tr>\n",
       "      <th>3</th>\n",
       "      <td>Vainas de soja.</td>\n",
       "      <td>dish_description</td>\n",
       "    </tr>\n",
       "    <tr>\n",
       "      <th>4</th>\n",
       "      <td>Alérgenos: 6</td>\n",
       "      <td>allergens</td>\n",
       "    </tr>\n",
       "    <tr>\n",
       "      <th>5</th>\n",
       "      <td>1</td>\n",
       "      <td>dish_id</td>\n",
       "    </tr>\n",
       "    <tr>\n",
       "      <th>6</th>\n",
       "      <td>Takoyaki / 2 Pzs.</td>\n",
       "      <td>dish_name</td>\n",
       "    </tr>\n",
       "    <tr>\n",
       "      <th>7</th>\n",
       "      <td>Albóndigas de pulpo con mayonesa, salsa</td>\n",
       "      <td>dish_description</td>\n",
       "    </tr>\n",
       "    <tr>\n",
       "      <th>8</th>\n",
       "      <td>teriyaki y tiras de bonito seco.</td>\n",
       "      <td>dish_description</td>\n",
       "    </tr>\n",
       "    <tr>\n",
       "      <th>9</th>\n",
       "      <td>Alérgenos: 1,3,4,6,14</td>\n",
       "      <td>allergens</td>\n",
       "    </tr>\n",
       "    <tr>\n",
       "      <th>10</th>\n",
       "      <td>2</td>\n",
       "      <td>dish_id</td>\n",
       "    </tr>\n",
       "    <tr>\n",
       "      <th>11</th>\n",
       "      <td>Ensalada kaisen</td>\n",
       "      <td>dish_name</td>\n",
       "    </tr>\n",
       "    <tr>\n",
       "      <th>12</th>\n",
       "      <td>Ensalada marina con pulpo,</td>\n",
       "      <td>dish_description</td>\n",
       "    </tr>\n",
       "    <tr>\n",
       "      <th>13</th>\n",
       "      <td>sepia, gambas y surimi.</td>\n",
       "      <td>dish_description</td>\n",
       "    </tr>\n",
       "    <tr>\n",
       "      <th>14</th>\n",
       "      <td>Alérgenos: 1,2,6,14</td>\n",
       "      <td>allergens</td>\n",
       "    </tr>\n",
       "    <tr>\n",
       "      <th>15</th>\n",
       "      <td>3</td>\n",
       "      <td>dish_id</td>\n",
       "    </tr>\n",
       "    <tr>\n",
       "      <th>16</th>\n",
       "      <td>Ensalada wakame</td>\n",
       "      <td>dish_name</td>\n",
       "    </tr>\n",
       "    <tr>\n",
       "      <th>17</th>\n",
       "      <td>Ensalada de algas wakame.</td>\n",
       "      <td>dish_description</td>\n",
       "    </tr>\n",
       "    <tr>\n",
       "      <th>18</th>\n",
       "      <td>Alérgenos: 6,11</td>\n",
       "      <td>allergens</td>\n",
       "    </tr>\n",
       "    <tr>\n",
       "      <th>19</th>\n",
       "      <td>4</td>\n",
       "      <td>dish_id</td>\n",
       "    </tr>\n",
       "    <tr>\n",
       "      <th>20</th>\n",
       "      <td>Ensalada japonesa</td>\n",
       "      <td>dish_name</td>\n",
       "    </tr>\n",
       "    <tr>\n",
       "      <th>21</th>\n",
       "      <td>Ensalada japonesa de algas y sésamo.</td>\n",
       "      <td>dish_description</td>\n",
       "    </tr>\n",
       "    <tr>\n",
       "      <th>22</th>\n",
       "      <td>Alérgenos: 1,6,11</td>\n",
       "      <td>allergens</td>\n",
       "    </tr>\n",
       "    <tr>\n",
       "      <th>23</th>\n",
       "      <td>5</td>\n",
       "      <td>dish_id</td>\n",
       "    </tr>\n",
       "  </tbody>\n",
       "</table>\n",
       "</div>"
      ],
      "text/plain": [
       "                                       text          category\n",
       "0                                         6      Unclassified\n",
       "1                                 ENTRANTES      Unclassified\n",
       "2                                   Edamame         dish_name\n",
       "3                           Vainas de soja.  dish_description\n",
       "4                              Alérgenos: 6         allergens\n",
       "5                                         1           dish_id\n",
       "6                         Takoyaki / 2 Pzs.         dish_name\n",
       "7   Albóndigas de pulpo con mayonesa, salsa  dish_description\n",
       "8          teriyaki y tiras de bonito seco.  dish_description\n",
       "9                     Alérgenos: 1,3,4,6,14         allergens\n",
       "10                                        2           dish_id\n",
       "11                          Ensalada kaisen         dish_name\n",
       "12               Ensalada marina con pulpo,  dish_description\n",
       "13                  sepia, gambas y surimi.  dish_description\n",
       "14                      Alérgenos: 1,2,6,14         allergens\n",
       "15                                        3           dish_id\n",
       "16                          Ensalada wakame         dish_name\n",
       "17                Ensalada de algas wakame.  dish_description\n",
       "18                          Alérgenos: 6,11         allergens\n",
       "19                                        4           dish_id\n",
       "20                        Ensalada japonesa         dish_name\n",
       "21     Ensalada japonesa de algas y sésamo.  dish_description\n",
       "22                        Alérgenos: 1,6,11         allergens\n",
       "23                                        5           dish_id"
      ]
     },
     "execution_count": 19,
     "metadata": {},
     "output_type": "execute_result"
    }
   ],
   "source": [
    "full_menu.query(\"page_number == 4\")[['text', 'category']]"
   ]
  },
  {
   "cell_type": "code",
   "execution_count": 20,
   "metadata": {},
   "outputs": [
    {
     "name": "stderr",
     "output_type": "stream",
     "text": [
      "/var/folders/tn/g7d_n6k55872srkdjv09xjbc0000gn/T/ipykernel_10352/2261205644.py:5: SettingWithCopyWarning: \n",
      "A value is trying to be set on a copy of a slice from a DataFrame.\n",
      "Try using .loc[row_indexer,col_indexer] = value instead\n",
      "\n",
      "See the caveats in the documentation: https://pandas.pydata.org/pandas-docs/stable/user_guide/indexing.html#returning-a-view-versus-a-copy\n",
      "  full_menu_filtered['group'] = np.where(full_menu_filtered['category'] == 'dish_id', full_menu_filtered['text'], np.nan)\n"
     ]
    }
   ],
   "source": [
    "import numpy as np\n",
    "\n",
    "full_menu_filtered = full_menu[full_menu['category'] != 'Unclassified']\n",
    "\n",
    "full_menu_filtered['group'] = np.where(full_menu_filtered['category'] == 'dish_id', full_menu_filtered['text'], np.nan) \n",
    "\n"
   ]
  },
  {
   "cell_type": "code",
   "execution_count": 23,
   "metadata": {},
   "outputs": [],
   "source": [
    "full_menu_filtered = full_menu_filtered[full_menu_filtered['page_number'] > 3]"
   ]
  },
  {
   "cell_type": "code",
   "execution_count": 25,
   "metadata": {},
   "outputs": [
    {
     "name": "stderr",
     "output_type": "stream",
     "text": [
      "/var/folders/tn/g7d_n6k55872srkdjv09xjbc0000gn/T/ipykernel_10352/1407801601.py:1: FutureWarning: Series.fillna with 'method' is deprecated and will raise in a future version. Use obj.ffill() or obj.bfill() instead.\n",
      "  full_menu_filtered['group'] = full_menu_filtered['group'].fillna(method='bfill')\n",
      "/var/folders/tn/g7d_n6k55872srkdjv09xjbc0000gn/T/ipykernel_10352/1407801601.py:1: SettingWithCopyWarning: \n",
      "A value is trying to be set on a copy of a slice from a DataFrame.\n",
      "Try using .loc[row_indexer,col_indexer] = value instead\n",
      "\n",
      "See the caveats in the documentation: https://pandas.pydata.org/pandas-docs/stable/user_guide/indexing.html#returning-a-view-versus-a-copy\n",
      "  full_menu_filtered['group'] = full_menu_filtered['group'].fillna(method='bfill')\n"
     ]
    }
   ],
   "source": [
    "full_menu_filtered['group'] = full_menu_filtered['group'].fillna(method='bfill')"
   ]
  },
  {
   "cell_type": "code",
   "execution_count": 38,
   "metadata": {},
   "outputs": [],
   "source": [
    "def concat_with_space(series):\n",
    "    # Filter out any None or NaN values\n",
    "    valid_strings = series.dropna()\n",
    "    \n",
    "    # If we have no valid strings, return None\n",
    "    if len(valid_strings) == 0:\n",
    "        return None\n",
    "        \n",
    "    # If we only have one string, return it as is\n",
    "    if len(valid_strings) == 1:\n",
    "        return valid_strings.iloc[0]\n",
    "        \n",
    "    # Otherwise, join all strings with spaces\n",
    "    return ' '.join(valid_strings)\n",
    "\n",
    "# Now use this function in the pivot table\n",
    "pivotted_table = pd.pivot_table(\n",
    "    full_menu_filtered,\n",
    "    index='group',\n",
    "    columns='category',\n",
    "    values='text',\n",
    "    aggfunc=concat_with_space  # Our custom concatenation function\n",
    ").reset_index()"
   ]
  },
  {
   "cell_type": "code",
   "execution_count": 34,
   "metadata": {},
   "outputs": [
    {
     "data": {
      "text/html": [
       "<div>\n",
       "<style scoped>\n",
       "    .dataframe tbody tr th:only-of-type {\n",
       "        vertical-align: middle;\n",
       "    }\n",
       "\n",
       "    .dataframe tbody tr th {\n",
       "        vertical-align: top;\n",
       "    }\n",
       "\n",
       "    .dataframe thead th {\n",
       "        text-align: right;\n",
       "    }\n",
       "</style>\n",
       "<table border=\"1\" class=\"dataframe\">\n",
       "  <thead>\n",
       "    <tr style=\"text-align: right;\">\n",
       "      <th></th>\n",
       "      <th>text</th>\n",
       "      <th>page_number</th>\n",
       "      <th>only_number</th>\n",
       "      <th>font_family</th>\n",
       "      <th>font_size</th>\n",
       "      <th>is_bold</th>\n",
       "      <th>font_intensity</th>\n",
       "      <th>is_italic</th>\n",
       "      <th>is_capitalized</th>\n",
       "      <th>bbox</th>\n",
       "      <th>color</th>\n",
       "      <th>category</th>\n",
       "      <th>group</th>\n",
       "    </tr>\n",
       "  </thead>\n",
       "  <tbody>\n",
       "    <tr>\n",
       "      <th>8</th>\n",
       "      <td>teriyaki y tiras de bonito seco.</td>\n",
       "      <td>4</td>\n",
       "      <td>False</td>\n",
       "      <td>MuseoSans-300</td>\n",
       "      <td>10.0</td>\n",
       "      <td>False</td>\n",
       "      <td>300</td>\n",
       "      <td>False</td>\n",
       "      <td>False</td>\n",
       "      <td>(84.44609832763672, 606.3801879882812, 219.526...</td>\n",
       "      <td>-14475488</td>\n",
       "      <td>dish_description</td>\n",
       "      <td>2</td>\n",
       "    </tr>\n",
       "  </tbody>\n",
       "</table>\n",
       "</div>"
      ],
      "text/plain": [
       "                               text  page_number  only_number    font_family  \\\n",
       "8  teriyaki y tiras de bonito seco.            4        False  MuseoSans-300   \n",
       "\n",
       "   font_size  is_bold font_intensity  is_italic  is_capitalized  \\\n",
       "8       10.0    False            300      False           False   \n",
       "\n",
       "                                                bbox     color  \\\n",
       "8  (84.44609832763672, 606.3801879882812, 219.526... -14475488   \n",
       "\n",
       "           category group  \n",
       "8  dish_description     2  "
      ]
     },
     "execution_count": 34,
     "metadata": {},
     "output_type": "execute_result"
    }
   ],
   "source": [
    "full_menu_filtered[full_menu_filtered['text'].str.contains('bonito seco')]"
   ]
  },
  {
   "cell_type": "code",
   "execution_count": 39,
   "metadata": {},
   "outputs": [],
   "source": [
    "columns = ['dish_id', 'dish_name', 'dish_description', 'allergens']\n",
    "\n",
    "dish_data = pivotted_table[columns]"
   ]
  },
  {
   "cell_type": "code",
   "execution_count": 40,
   "metadata": {},
   "outputs": [
    {
     "name": "stderr",
     "output_type": "stream",
     "text": [
      "/var/folders/tn/g7d_n6k55872srkdjv09xjbc0000gn/T/ipykernel_10352/265355918.py:1: SettingWithCopyWarning: \n",
      "A value is trying to be set on a copy of a slice from a DataFrame.\n",
      "Try using .loc[row_indexer,col_indexer] = value instead\n",
      "\n",
      "See the caveats in the documentation: https://pandas.pydata.org/pandas-docs/stable/user_guide/indexing.html#returning-a-view-versus-a-copy\n",
      "  dish_data['dish_id'] = dish_data['dish_id'].astype(int)\n"
     ]
    }
   ],
   "source": [
    "dish_data['dish_id'] = dish_data['dish_id'].astype(int)"
   ]
  },
  {
   "cell_type": "code",
   "execution_count": 43,
   "metadata": {},
   "outputs": [
    {
     "data": {
      "text/plain": [
       "'Vainas de soja.'"
      ]
     },
     "execution_count": 43,
     "metadata": {},
     "output_type": "execute_result"
    }
   ],
   "source": [
    "dish_data.sort_values(by='dish_id').query('dish_id == 1')['dish_description'].iloc[0]"
   ]
  }
 ],
 "metadata": {
  "kernelspec": {
   "display_name": "pdf_marker",
   "language": "python",
   "name": "python3"
  },
  "language_info": {
   "codemirror_mode": {
    "name": "ipython",
    "version": 3
   },
   "file_extension": ".py",
   "mimetype": "text/x-python",
   "name": "python",
   "nbconvert_exporter": "python",
   "pygments_lexer": "ipython3",
   "version": "3.10.16"
  }
 },
 "nbformat": 4,
 "nbformat_minor": 2
}
